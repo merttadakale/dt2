{
 "cells": [
  {
   "cell_type": "code",
   "execution_count": 1,
   "id": "6b73c404",
   "metadata": {
    "scrolled": true
   },
   "outputs": [],
   "source": [
    "import pandas as pd\n",
    "df = pd.read_csv(\"C:/Users/Lenovo/Desktop/sentimentstwittermert/dt2/Twitter_Data.csv\")\n"
   ]
  },
  {
   "cell_type": "code",
   "execution_count": 2,
   "id": "18c87539",
   "metadata": {},
   "outputs": [
    {
     "name": "stdout",
     "output_type": "stream",
     "text": [
      "<class 'pandas.core.frame.DataFrame'>\n",
      "RangeIndex: 162980 entries, 0 to 162979\n",
      "Data columns (total 2 columns):\n",
      " #   Column      Non-Null Count   Dtype  \n",
      "---  ------      --------------   -----  \n",
      " 0   clean_text  162976 non-null  object \n",
      " 1   category    162973 non-null  float64\n",
      "dtypes: float64(1), object(1)\n",
      "memory usage: 2.5+ MB\n",
      "None\n",
      "                                          clean_text  category\n",
      "0  when modi promised “minimum government maximum...      -1.0\n",
      "1  talk all the nonsense and continue all the dra...       0.0\n",
      "2  what did just say vote for modi  welcome bjp t...       1.0\n",
      "3  asking his supporters prefix chowkidar their n...       1.0\n",
      "4  answer who among these the most powerful world...       1.0\n",
      "5           kiya tho refresh maarkefir comment karo        0.0\n",
      "6  surat women perform yagna seeks divine grace f...       0.0\n",
      "7  this comes from cabinet which has scholars lik...       0.0\n",
      "8  with upcoming election india saga going import...       1.0\n",
      "9                         gandhi was gay does modi         1.0\n"
     ]
    }
   ],
   "source": [
    "print(df.info())\n",
    "print(df.head(10))"
   ]
  },
  {
   "cell_type": "code",
   "execution_count": 3,
   "id": "a8d2f4db",
   "metadata": {},
   "outputs": [
    {
     "name": "stdout",
     "output_type": "stream",
     "text": [
      "                                               tweet sentiment\n",
      "0  when modi promised “minimum government maximum...  negative\n",
      "1  talk all the nonsense and continue all the dra...   neutral\n",
      "2  what did just say vote for modi  welcome bjp t...  positive\n",
      "3  asking his supporters prefix chowkidar their n...  positive\n",
      "4  answer who among these the most powerful world...  positive\n",
      "<class 'pandas.core.frame.DataFrame'>\n",
      "RangeIndex: 162980 entries, 0 to 162979\n",
      "Data columns (total 2 columns):\n",
      " #   Column     Non-Null Count   Dtype \n",
      "---  ------     --------------   ----- \n",
      " 0   tweet      162976 non-null  object\n",
      " 1   sentiment  162973 non-null  object\n",
      "dtypes: object(2)\n",
      "memory usage: 2.5+ MB\n",
      "None\n"
     ]
    }
   ],
   "source": [
    "import pandas as pd\n",
    "\n",
    "# Assuming your DataFrame is named df\n",
    "df.columns = ['tweet', 'sentiment_score']\n",
    "\n",
    "# Add a new column 'sentiment'\n",
    "df['sentiment'] = df['sentiment_score'].map({-1.0: 'negative', 0.0: 'neutral', 1.0: 'positive'})\n",
    "\n",
    "# Drop the 'sentiment_score' column if you don't need it anymore\n",
    "df = df[['tweet', 'sentiment']]\n",
    "\n",
    "# Display the updated DataFrame\n",
    "print(df.head())\n",
    "print(df.info())"
   ]
  },
  {
   "cell_type": "code",
   "execution_count": 4,
   "id": "7ae9114d",
   "metadata": {},
   "outputs": [
    {
     "name": "stdout",
     "output_type": "stream",
     "text": [
      "tweet        4\n",
      "sentiment    7\n",
      "dtype: int64\n"
     ]
    }
   ],
   "source": [
    "# Check for missing values\n",
    "print(df.isnull().sum())"
   ]
  },
  {
   "cell_type": "code",
   "execution_count": 5,
   "id": "99ef0d22",
   "metadata": {
    "scrolled": false
   },
   "outputs": [
    {
     "data": {
      "image/png": "[encoded data removed]",
      "text/plain": [
       "<Figure size 640x480 with 1 Axes>"
      ]
     },
     "metadata": {},
     "output_type": "display_data"
    }
   ],
   "source": [
    "import matplotlib.pyplot as plt\n",
    "import seaborn as sns\n",
    "\n",
    "# Define a custom palette for sentiment categories\n",
    "custom_palette = {'positive': '#2ca02c', 'neutral': '#1f77b4', 'negative': '#d62728'}\n",
    "\n",
    "# Plot with the custom palette\n",
    "sns.countplot(x='sentiment', data=df, palette=custom_palette, order=['positive', 'neutral', 'negative'])\n",
    "plt.title('Sentiment Distribution')\n",
    "plt.show()"
   ]
  },
  {
   "cell_type": "code",
   "execution_count": 6,
   "id": "45296ff3",
   "metadata": {},
   "outputs": [
    {
     "data": {
      "text/plain": [
       "positive    72250\n",
       "neutral     55213\n",
       "negative    35510\n",
       "Name: sentiment, dtype: int64"
      ]
     },
     "execution_count": 6,
     "metadata": {},
     "output_type": "execute_result"
    }
   ],
   "source": [
    "df['sentiment'].value_counts()"
   ]
  },
  {
   "cell_type": "code",
   "execution_count": 7,
   "id": "adf47aa1",
   "metadata": {},
   "outputs": [
    {
     "data": {
      "text/plain": [
       "tweet        4\n",
       "sentiment    7\n",
       "dtype: int64"
      ]
     },
     "execution_count": 7,
     "metadata": {},
     "output_type": "execute_result"
    }
   ],
   "source": [
    "df.isnull().sum()"
   ]
  },
  {
   "cell_type": "code",
   "execution_count": 8,
   "id": "ca6acff4",
   "metadata": {},
   "outputs": [],
   "source": [
    "import re\n",
    "\n",
    "def preprocess_text(text):\n",
    "    # Check if the text is not NaN\n",
    "    if isinstance(text, str):\n",
    "        text = text.lower()\n",
    "        text = re.sub(r'[^a-zA-Z\\s]', '', text)\n",
    "        # Add more preprocessing steps if needed\n",
    "        return text\n",
    "    else:\n",
    "        return \"\"\n",
    "\n",
    "df['clean_text'] = df['tweet'].apply(preprocess_text)"
   ]
  },
  {
   "cell_type": "code",
   "execution_count": 9,
   "id": "5ac885c9",
   "metadata": {},
   "outputs": [
    {
     "name": "stderr",
     "output_type": "stream",
     "text": [
      "[nltk_data] Downloading package punkt to\n",
      "[nltk_data]     C:\\Users\\Lenovo\\AppData\\Roaming\\nltk_data...\n",
      "[nltk_data]   Package punkt is already up-to-date!\n"
     ]
    },
    {
     "data": {
      "text/plain": [
       "True"
      ]
     },
     "execution_count": 9,
     "metadata": {},
     "output_type": "execute_result"
    }
   ],
   "source": [
    "import nltk\n",
    "# Download the Punkt resource\n",
    "nltk.download('punkt')"
   ]
  },
  {
   "cell_type": "code",
   "execution_count": 10,
   "id": "b8bdf9ca",
   "metadata": {},
   "outputs": [],
   "source": [
    "from nltk.tokenize import word_tokenize\n",
    "\n",
    "df['tokens'] = df['clean_text'].apply(word_tokenize)"
   ]
  },
  {
   "cell_type": "code",
   "execution_count": 11,
   "id": "c205f4b9",
   "metadata": {},
   "outputs": [
    {
     "data": {
      "text/plain": [
       "[('modi', 155638),\n",
       " ('the', 104506),\n",
       " ('and', 67358),\n",
       " ('for', 52451),\n",
       " ('you', 38985),\n",
       " ('not', 30334),\n",
       " ('india', 29181),\n",
       " ('will', 28948),\n",
       " ('this', 28617),\n",
       " ('that', 28194)]"
      ]
     },
     "execution_count": 11,
     "metadata": {},
     "output_type": "execute_result"
    }
   ],
   "source": [
    "from nltk import FreqDist\n",
    "\n",
    "all_words = [word for tokens in df['tokens'] for word in tokens]\n",
    "freq_dist = FreqDist(all_words)\n",
    "freq_dist.most_common(10)"
   ]
  },
  {
   "cell_type": "code",
   "execution_count": 12,
   "id": "6ff4ffe9",
   "metadata": {},
   "outputs": [
    {
     "data": {
      "image/png": "[encoded data removed]",
      "text/plain": [
       "<Figure size 1000x500 with 1 Axes>"
      ]
     },
     "metadata": {},
     "output_type": "display_data"
    }
   ],
   "source": [
    "import matplotlib.pyplot as plt\n",
    "from collections import Counter\n",
    "\n",
    "# Example list of words (replace with your word list)\n",
    "all_words = ['data', 'analysis', 'python', 'visualization', 'data', 'python', 'science', 'machine', 'learning', 'python']\n",
    "\n",
    "# Count the frequency of each word\n",
    "word_counts = Counter(all_words)\n",
    "\n",
    "# Get the top 10 most common words\n",
    "common_words = word_counts.most_common(10)\n",
    "words, counts = zip(*common_words)\n",
    "\n",
    "# Create the bar chart\n",
    "plt.figure(figsize=(10, 5))\n",
    "plt.bar(words, counts, color='skyblue', edgecolor='black')\n",
    "\n",
    "# Customize the plot\n",
    "plt.title('Top 10 Most Common Words', fontsize=16)\n",
    "plt.xlabel('Words', fontsize=12)\n",
    "plt.ylabel('Frequency', fontsize=12)\n",
    "plt.xticks(rotation=45, fontsize=10)\n",
    "plt.grid(axis='y', linestyle='--', alpha=0.7)\n",
    "\n",
    "# Show the plot\n",
    "plt.tight_layout()\n",
    "plt.show()\n"
   ]
  },
  {
   "cell_type": "code",
   "execution_count": 13,
   "id": "79ccd800",
   "metadata": {},
   "outputs": [
    {
     "data": {
      "image/png": "[encoded data removed]",
      "text/plain": [
       "<Figure size 1000x500 with 1 Axes>"
      ]
     },
     "metadata": {},
     "output_type": "display_data"
    }
   ],
   "source": [
    "import matplotlib.pyplot as plt\n",
    "from collections import Counter\n",
    "import re\n",
    "\n",
    "# Example list of tweets (replace this with your dataset)\n",
    "tweets = [\n",
    "    \"Just saw a fantastic movie! #cinema\",\n",
    "    \"Python is amazing for data analysis. #Python\",\n",
    "    \"Loving the weather today! #SunnyDay\",\n",
    "    \"Data science is the future! #AI\",\n",
    "    \"Python visualization libraries are powerful! #DataViz\",\n",
    "    \"Fantastic views from the mountains! #Nature\",\n",
    "    \"Machine learning is so interesting. #ML\",\n",
    "    \"Python or R for data science? #DataScience\",\n",
    "    \"Twitter trends are always fascinating! #Trends\"\n",
    "]\n",
    "\n",
    "# Preprocess tweets: Remove hashtags, mentions, links, and special characters\n",
    "all_words = []\n",
    "for tweet in tweets:\n",
    "    cleaned_tweet = re.sub(r\"http\\S+|@\\S+|#[A-Za-z0-9_]+\", \"\", tweet)  # Remove links, mentions, hashtags\n",
    "    cleaned_tweet = re.sub(r\"[^a-zA-Z\\s]\", \"\", cleaned_tweet)  # Remove special characters\n",
    "    all_words.extend(cleaned_tweet.lower().split())\n",
    "\n",
    "# Count the frequency of each word\n",
    "word_counts = Counter(all_words)\n",
    "\n",
    "# Get the top 10 most common words\n",
    "common_words = word_counts.most_common(10)\n",
    "words, counts = zip(*common_words)\n",
    "\n",
    "# Create the bar chart\n",
    "plt.figure(figsize=(10, 5))\n",
    "plt.bar(words, counts, color='lightgreen', edgecolor='black')\n",
    "\n",
    "# Customize the plot\n",
    "plt.title('Top 10 Most Common Words on Twitter', fontsize=16)\n",
    "plt.xlabel('Words', fontsize=12)\n",
    "plt.ylabel('Frequency', fontsize=12)\n",
    "plt.xticks(rotation=45, fontsize=10)\n",
    "plt.grid(axis='y', linestyle='--', alpha=0.7)\n",
    "\n",
    "# Show the plot\n",
    "plt.tight_layout()\n",
    "plt.show()\n"
   ]
  },
  {
   "cell_type": "code",
   "execution_count": 14,
   "id": "457fd0d1",
   "metadata": {},
   "outputs": [
    {
     "data": {
      "image/png": "[encoded data removed]",
      "text/plain": [
       "<Figure size 1000x500 with 1 Axes>"
      ]
     },
     "metadata": {},
     "output_type": "display_data"
    }
   ],
   "source": [
    "import matplotlib.pyplot as plt\n",
    "from collections import Counter\n",
    "\n",
    "# Example word categories and frequencies (replace with real data if available)\n",
    "categories = [\n",
    "    \"Abbreviations and Slang\",\n",
    "    \"Platform-Specific Terms\",\n",
    "    \"Trending Words\",\n",
    "    \"Hashtags and Emojis\",\n",
    "    \"Engagement Words\",\n",
    "    \"General Words\"\n",
    "]\n",
    "\n",
    "frequencies = [150, 200, 180, 220, 170, 190]  # Replace these numbers with real frequencies\n",
    "\n",
    "# Create the bar chart\n",
    "plt.figure(figsize=(10, 5))\n",
    "plt.bar(categories, frequencies, color='lightcoral', edgecolor='black')\n",
    "\n",
    "# Customize the plot\n",
    "plt.title('Frequency of Word Categories in Twitter Data', fontsize=16)\n",
    "plt.xlabel('Word Categories', fontsize=12)\n",
    "plt.ylabel('Frequency', fontsize=12)\n",
    "plt.xticks(rotation=45, fontsize=10)\n",
    "plt.grid(axis='y', linestyle='--', alpha=0.7)\n",
    "\n",
    "# Show the plot\n",
    "plt.tight_layout()\n",
    "plt.show()\n"
   ]
  },
  {
   "cell_type": "code",
   "execution_count": 15,
   "id": "59bca605",
   "metadata": {},
   "outputs": [],
   "source": [
    "# Example: Text length feature\n",
    "df['text_length'] = df['clean_text'].apply(len)"
   ]
  },
  {
   "cell_type": "code",
   "execution_count": 16,
   "id": "4b7b0519",
   "metadata": {},
   "outputs": [
    {
     "data": {
      "image/png": "[encoded data removed]",
      "text/plain": [
       "<Figure size 640x480 with 1 Axes>"
      ]
     },
     "metadata": {},
     "output_type": "display_data"
    }
   ],
   "source": [
    "sns.countplot(x='sentiment', data=df)\n",
    "plt.title('Sentiment Distribution')\n",
    "plt.show()"
   ]
  },
  {
   "cell_type": "code",
   "execution_count": 17,
   "id": "44032f50",
   "metadata": {},
   "outputs": [
    {
     "name": "stdout",
     "output_type": "stream",
     "text": [
      "<class 'pandas.core.frame.DataFrame'>\n",
      "RangeIndex: 162980 entries, 0 to 162979\n",
      "Data columns (total 5 columns):\n",
      " #   Column       Non-Null Count   Dtype \n",
      "---  ------       --------------   ----- \n",
      " 0   tweet        162976 non-null  object\n",
      " 1   sentiment    162973 non-null  object\n",
      " 2   clean_text   162980 non-null  object\n",
      " 3   tokens       162980 non-null  object\n",
      " 4   text_length  162980 non-null  int64 \n",
      "dtypes: int64(1), object(4)\n",
      "memory usage: 6.2+ MB\n",
      "None\n",
      "                                               tweet sentiment  \\\n",
      "0  when modi promised “minimum government maximum...  negative   \n",
      "1  talk all the nonsense and continue all the dra...   neutral   \n",
      "2  what did just say vote for modi  welcome bjp t...  positive   \n",
      "3  asking his supporters prefix chowkidar their n...  positive   \n",
      "4  answer who among these the most powerful world...  positive   \n",
      "5           kiya tho refresh maarkefir comment karo    neutral   \n",
      "6  surat women perform yagna seeks divine grace f...   neutral   \n",
      "7  this comes from cabinet which has scholars lik...   neutral   \n",
      "8  with upcoming election india saga going import...  positive   \n",
      "9                         gandhi was gay does modi    positive   \n",
      "\n",
      "                                          clean_text  \\\n",
      "0  when modi promised minimum government maximum ...   \n",
      "1  talk all the nonsense and continue all the dra...   \n",
      "2  what did just say vote for modi  welcome bjp t...   \n",
      "3  asking his supporters prefix chowkidar their n...   \n",
      "4  answer who among these the most powerful world...   \n",
      "5           kiya tho refresh maarkefir comment karo    \n",
      "6  surat women perform yagna seeks divine grace f...   \n",
      "7  this comes from cabinet which has scholars lik...   \n",
      "8  with upcoming election india saga going import...   \n",
      "9                         gandhi was gay does modi     \n",
      "\n",
      "                                              tokens  text_length  \n",
      "0  [when, modi, promised, minimum, government, ma...          208  \n",
      "1  [talk, all, the, nonsense, and, continue, all,...           68  \n",
      "2  [what, did, just, say, vote, for, modi, welcom...          117  \n",
      "3  [asking, his, supporters, prefix, chowkidar, t...          212  \n",
      "4  [answer, who, among, these, the, most, powerfu...           81  \n",
      "5     [kiya, tho, refresh, maarkefir, comment, karo]           40  \n",
      "6  [surat, women, perform, yagna, seeks, divine, ...           76  \n",
      "7  [this, comes, from, cabinet, which, has, schol...           84  \n",
      "8  [with, upcoming, election, india, saga, going,...          156  \n",
      "9                     [gandhi, was, gay, does, modi]           26  \n"
     ]
    }
   ],
   "source": [
    "import pandas as pd\n",
    "df1 = pd.read_csv(\"C:/Users/Lenovo/Desktop/sentimentstwittermert/dt2/Twitter_Data.csv\")\n",
    "print(df.info())\n",
    "print(df.head(10))"
   ]
  },
  {
   "cell_type": "code",
   "execution_count": 18,
   "id": "6582a94a",
   "metadata": {},
   "outputs": [
    {
     "name": "stdout",
     "output_type": "stream",
     "text": [
      "        category                                         clean_text\n",
      "0           -1.0  when modi promised “minimum government maximum...\n",
      "1            0.0  talk all the nonsense and continue all the dra...\n",
      "2            1.0  what did just say vote for modi  welcome bjp t...\n",
      "3            1.0  asking his supporters prefix chowkidar their n...\n",
      "4            1.0  answer who among these the most powerful world...\n",
      "...          ...                                                ...\n",
      "162975      -1.0  why these 456 crores paid neerav modi not reco...\n",
      "162976      -1.0  dear rss terrorist payal gawar what about modi...\n",
      "162977       0.0  did you cover her interaction forum where she ...\n",
      "162978       0.0  there big project came into india modi dream p...\n",
      "162979       1.0  have you ever listen about like gurukul where ...\n",
      "\n",
      "[162980 rows x 2 columns]\n"
     ]
    },
    {
     "name": "stderr",
     "output_type": "stream",
     "text": [
      "C:\\Users\\Lenovo\\AppData\\Local\\Temp\\ipykernel_19888\\2963134669.py:6: FutureWarning: Passing a set as an indexer is deprecated and will raise in a future version. Use a list instead.\n",
      "  selected_columns = df1[{'clean_text', 'category'}]  # Replace with actual column names\n"
     ]
    }
   ],
   "source": [
    "# Assuming your DataFrame is named 'df1'\n",
    "# Select columns by index (2 and 3)\n",
    "selected_columns = df1.iloc[:, [0, 1]]  # Use index if you are sure about column positions\n",
    "\n",
    "# (CLEAN TEXT: TWEETS)(CATEGORY:SENTIMENTS)\n",
    "selected_columns = df1[{'clean_text', 'category'}]  # Replace with actual column names\n",
    "\n",
    "# Display the resulting DataFrame\n",
    "print(selected_columns)\n"
   ]
  },
  {
   "cell_type": "code",
   "execution_count": 19,
   "id": "4d4af255",
   "metadata": {},
   "outputs": [
    {
     "name": "stdout",
     "output_type": "stream",
     "text": [
      "clean_text    4\n",
      "category      7\n",
      "dtype: int64\n"
     ]
    }
   ],
   "source": [
    "# Check for missing values\n",
    "print(df1.isnull().sum())"
   ]
  },
  {
   "cell_type": "code",
   "execution_count": 20,
   "id": "2fb82ce8",
   "metadata": {},
   "outputs": [
    {
     "name": "stdout",
     "output_type": "stream",
     "text": [
      "<class 'pandas.core.frame.DataFrame'>\n",
      "RangeIndex: 162980 entries, 0 to 162979\n",
      "Data columns (total 2 columns):\n",
      " #   Column      Non-Null Count   Dtype  \n",
      "---  ------      --------------   -----  \n",
      " 0   clean_text  162976 non-null  object \n",
      " 1   category    162973 non-null  float64\n",
      "dtypes: float64(1), object(1)\n",
      "memory usage: 2.5+ MB\n",
      "None\n",
      "                                          clean_text  category\n",
      "0  when modi promised “minimum government maximum...      -1.0\n",
      "1  talk all the nonsense and continue all the dra...       0.0\n",
      "2  what did just say vote for modi  welcome bjp t...       1.0\n",
      "3  asking his supporters prefix chowkidar their n...       1.0\n",
      "4  answer who among these the most powerful world...       1.0\n",
      "5           kiya tho refresh maarkefir comment karo        0.0\n",
      "6  surat women perform yagna seeks divine grace f...       0.0\n",
      "7  this comes from cabinet which has scholars lik...       0.0\n",
      "8  with upcoming election india saga going import...       1.0\n",
      "9                         gandhi was gay does modi         1.0\n"
     ]
    }
   ],
   "source": [
    "print(df1.info())\n",
    "print(df1.head(10))"
   ]
  },
  {
   "cell_type": "code",
   "execution_count": 21,
   "id": "e339fde8",
   "metadata": {},
   "outputs": [
    {
     "name": "stdout",
     "output_type": "stream",
     "text": [
      "<class 'pandas.core.frame.DataFrame'>\n",
      "RangeIndex: 162980 entries, 0 to 162979\n",
      "Data columns (total 5 columns):\n",
      " #   Column       Non-Null Count   Dtype \n",
      "---  ------       --------------   ----- \n",
      " 0   tweet        162976 non-null  object\n",
      " 1   sentiment    162973 non-null  object\n",
      " 2   clean_text   162980 non-null  object\n",
      " 3   tokens       162980 non-null  object\n",
      " 4   text_length  162980 non-null  int64 \n",
      "dtypes: int64(1), object(4)\n",
      "memory usage: 6.2+ MB\n",
      "None\n",
      "                                               tweet sentiment  \\\n",
      "0  when modi promised “minimum government maximum...  negative   \n",
      "1  talk all the nonsense and continue all the dra...   neutral   \n",
      "2  what did just say vote for modi  welcome bjp t...  positive   \n",
      "3  asking his supporters prefix chowkidar their n...  positive   \n",
      "4  answer who among these the most powerful world...  positive   \n",
      "5           kiya tho refresh maarkefir comment karo    neutral   \n",
      "6  surat women perform yagna seeks divine grace f...   neutral   \n",
      "7  this comes from cabinet which has scholars lik...   neutral   \n",
      "8  with upcoming election india saga going import...  positive   \n",
      "9                         gandhi was gay does modi    positive   \n",
      "\n",
      "                                          clean_text  \\\n",
      "0  when modi promised minimum government maximum ...   \n",
      "1  talk all the nonsense and continue all the dra...   \n",
      "2  what did just say vote for modi  welcome bjp t...   \n",
      "3  asking his supporters prefix chowkidar their n...   \n",
      "4  answer who among these the most powerful world...   \n",
      "5           kiya tho refresh maarkefir comment karo    \n",
      "6  surat women perform yagna seeks divine grace f...   \n",
      "7  this comes from cabinet which has scholars lik...   \n",
      "8  with upcoming election india saga going import...   \n",
      "9                         gandhi was gay does modi     \n",
      "\n",
      "                                              tokens  text_length  \n",
      "0  [when, modi, promised, minimum, government, ma...          208  \n",
      "1  [talk, all, the, nonsense, and, continue, all,...           68  \n",
      "2  [what, did, just, say, vote, for, modi, welcom...          117  \n",
      "3  [asking, his, supporters, prefix, chowkidar, t...          212  \n",
      "4  [answer, who, among, these, the, most, powerfu...           81  \n",
      "5     [kiya, tho, refresh, maarkefir, comment, karo]           40  \n",
      "6  [surat, women, perform, yagna, seeks, divine, ...           76  \n",
      "7  [this, comes, from, cabinet, which, has, schol...           84  \n",
      "8  [with, upcoming, election, india, saga, going,...          156  \n",
      "9                     [gandhi, was, gay, does, modi]           26  \n"
     ]
    }
   ],
   "source": [
    "import pandas as pd\n",
    "df1 = pd.read_csv(\"C:/Users/Lenovo/Desktop/sentimentstwittermert/dt2/validation.csv\")\n",
    "print(df.info())\n",
    "print(df.head(10))"
   ]
  },
  {
   "cell_type": "code",
   "execution_count": 22,
   "id": "1401ba3c",
   "metadata": {},
   "outputs": [
    {
     "name": "stdout",
     "output_type": "stream",
     "text": [
      "          tweet                                          sentiment\n",
      "0       Neutral  BBC News - Amazon boss Jeff Bezos rejects clai...\n",
      "1      Negative  @Microsoft Why do I pay for WORD when it funct...\n",
      "2      Negative  CSGO matchmaking is so full of closet hacking,...\n",
      "3       Neutral  Now the President is slapping Americans in the...\n",
      "4      Negative  Hi @EAHelp I’ve had Madeleine McCann in my cel...\n",
      "..          ...                                                ...\n",
      "994  Irrelevant  ⭐️ Toronto is the arts and culture capital of ...\n",
      "995  Irrelevant  tHIS IS ACTUALLY A GOOD MOVE TOT BRING MORE VI...\n",
      "996    Positive  Today sucked so it’s time to drink wine n play...\n",
      "997    Positive  Bought a fraction of Microsoft today. Small wins.\n",
      "998     Neutral  Johnson & Johnson to stop selling talc baby po...\n",
      "\n",
      "[999 rows x 2 columns]\n"
     ]
    }
   ],
   "source": [
    "# Assuming your DataFrame is named 'df'\n",
    "selected_columns = df1.iloc[:, [2, 3]]  # Select columns at index 2 and 3\n",
    "\n",
    "# Rename the columns for clarity\n",
    "selected_columns.columns = ['tweet', 'sentiment']\n",
    "\n",
    "# Display the resulting DataFrame\n",
    "print(selected_columns)"
   ]
  },
  {
   "cell_type": "code",
   "execution_count": 23,
   "id": "277fd5dc",
   "metadata": {},
   "outputs": [
    {
     "name": "stdout",
     "output_type": "stream",
     "text": [
      "3364                                                                                                                                                                                                                                                  0\n",
      "Facebook                                                                                                                                                                                                                                              0\n",
      "Irrelevant                                                                                                                                                                                                                                            0\n",
      "I mentioned on Facebook that I was struggling for motivation to go for a run the other day, which has been translated by Tom’s great auntie as ‘Hayley can’t get out of bed’ and told to his grandma, who now thinks I’m a lazy, terrible person 🤣    0\n",
      "dtype: int64\n"
     ]
    }
   ],
   "source": [
    "# Check for missing values\n",
    "print(df1.isnull().sum())"
   ]
  },
  {
   "cell_type": "code",
   "execution_count": 24,
   "id": "97428eaa",
   "metadata": {},
   "outputs": [
    {
     "name": "stdout",
     "output_type": "stream",
     "text": [
      "<class 'pandas.core.frame.DataFrame'>\n",
      "RangeIndex: 999 entries, 0 to 998\n",
      "Data columns (total 4 columns):\n",
      " #   Column                                                                                                                                                                                                                                              Non-Null Count  Dtype \n",
      "---  ------                                                                                                                                                                                                                                              --------------  ----- \n",
      " 0   3364                                                                                                                                                                                                                                                999 non-null    int64 \n",
      " 1   Facebook                                                                                                                                                                                                                                            999 non-null    object\n",
      " 2   Irrelevant                                                                                                                                                                                                                                          999 non-null    object\n",
      " 3   I mentioned on Facebook that I was struggling for motivation to go for a run the other day, which has been translated by Tom’s great auntie as ‘Hayley can’t get out of bed’ and told to his grandma, who now thinks I’m a lazy, terrible person 🤣  999 non-null    object\n",
      "dtypes: int64(1), object(3)\n",
      "memory usage: 31.3+ KB\n",
      "None\n",
      "    3364              Facebook Irrelevant  \\\n",
      "0    352                Amazon    Neutral   \n",
      "1   8312             Microsoft   Negative   \n",
      "2   4371                 CS-GO   Negative   \n",
      "3   4433                Google    Neutral   \n",
      "4   6273                  FIFA   Negative   \n",
      "5   7925             MaddenNFL   Positive   \n",
      "6  11332  TomClancysRainbowSix   Positive   \n",
      "7   1107        AssassinsCreed   Positive   \n",
      "8   2069            CallOfDuty   Negative   \n",
      "9   3185                 Dota2   Positive   \n",
      "\n",
      "  I mentioned on Facebook that I was struggling for motivation to go for a run the other day, which has been translated by Tom’s great auntie as ‘Hayley can’t get out of bed’ and told to his grandma, who now thinks I’m a lazy, terrible person 🤣  \n",
      "0  BBC News - Amazon boss Jeff Bezos rejects clai...                                                                                                                                                                                                  \n",
      "1  @Microsoft Why do I pay for WORD when it funct...                                                                                                                                                                                                  \n",
      "2  CSGO matchmaking is so full of closet hacking,...                                                                                                                                                                                                  \n",
      "3  Now the President is slapping Americans in the...                                                                                                                                                                                                  \n",
      "4  Hi @EAHelp I’ve had Madeleine McCann in my cel...                                                                                                                                                                                                  \n",
      "5  Thank you @EAMaddenNFL!! \\n\\nNew TE Austin Hoo...                                                                                                                                                                                                  \n",
      "6  Rocket League, Sea of Thieves or Rainbow Six: ...                                                                                                                                                                                                  \n",
      "7  my ass still knee-deep in Assassins Creed Odys...                                                                                                                                                                                                  \n",
      "8  FIX IT JESUS ! Please FIX IT ! What In the wor...                                                                                                                                                                                                  \n",
      "9  The professional dota 2 scene is fucking explo...                                                                                                                                                                                                  \n"
     ]
    }
   ],
   "source": [
    "print(df1.info())\n",
    "print(df1.head(10))"
   ]
  },
  {
   "cell_type": "code",
   "execution_count": 25,
   "id": "0979d54e",
   "metadata": {},
   "outputs": [
    {
     "name": "stdout",
     "output_type": "stream",
     "text": [
      "      sentiment                                              tweet\n",
      "0       Neutral  BBC News - Amazon boss Jeff Bezos rejects clai...\n",
      "1      Negative  @Microsoft Why do I pay for WORD when it funct...\n",
      "2      Negative  CSGO matchmaking is so full of closet hacking,...\n",
      "3       Neutral  Now the President is slapping Americans in the...\n",
      "4      Negative  Hi @EAHelp I’ve had Madeleine McCann in my cel...\n",
      "..          ...                                                ...\n",
      "994  Irrelevant  ⭐️ Toronto is the arts and culture capital of ...\n",
      "995  Irrelevant  tHIS IS ACTUALLY A GOOD MOVE TOT BRING MORE VI...\n",
      "996    Positive  Today sucked so it’s time to drink wine n play...\n",
      "997    Positive  Bought a fraction of Microsoft today. Small wins.\n",
      "998     Neutral  Johnson & Johnson to stop selling talc baby po...\n",
      "\n",
      "[999 rows x 2 columns]\n"
     ]
    }
   ],
   "source": [
    "# Assuming your DataFrame is named 'df'\n",
    "df1 = df1[['Irrelevant', 'I mentioned on Facebook that I was struggling for motivation to go for a run the other day, which has been translated by Tom’s great auntie as ‘Hayley can’t get out of bed’ and told to his grandma, who now thinks I’m a lazy, terrible person 🤣']]\n",
    "\n",
    "# Rename the columns for clarity\n",
    "df1.columns = ['sentiment', 'tweet']\n",
    "\n",
    "# Display the resulting DataFrame\n",
    "print(df1)"
   ]
  },
  {
   "cell_type": "code",
   "execution_count": 26,
   "id": "46f70397",
   "metadata": {},
   "outputs": [
    {
     "name": "stdout",
     "output_type": "stream",
     "text": [
      "<class 'pandas.core.frame.DataFrame'>\n",
      "RangeIndex: 999 entries, 0 to 998\n",
      "Data columns (total 2 columns):\n",
      " #   Column     Non-Null Count  Dtype \n",
      "---  ------     --------------  ----- \n",
      " 0   sentiment  999 non-null    object\n",
      " 1   tweet      999 non-null    object\n",
      "dtypes: object(2)\n",
      "memory usage: 15.7+ KB\n",
      "None\n",
      "  sentiment                                              tweet\n",
      "0   Neutral  BBC News - Amazon boss Jeff Bezos rejects clai...\n",
      "1  Negative  @Microsoft Why do I pay for WORD when it funct...\n",
      "2  Negative  CSGO matchmaking is so full of closet hacking,...\n",
      "3   Neutral  Now the President is slapping Americans in the...\n",
      "4  Negative  Hi @EAHelp I’ve had Madeleine McCann in my cel...\n",
      "5  Positive  Thank you @EAMaddenNFL!! \\n\\nNew TE Austin Hoo...\n",
      "6  Positive  Rocket League, Sea of Thieves or Rainbow Six: ...\n",
      "7  Positive  my ass still knee-deep in Assassins Creed Odys...\n",
      "8  Negative  FIX IT JESUS ! Please FIX IT ! What In the wor...\n",
      "9  Positive  The professional dota 2 scene is fucking explo...\n"
     ]
    }
   ],
   "source": [
    "print(df1.info())\n",
    "print(df1.head(10))"
   ]
  },
  {
   "cell_type": "code",
   "execution_count": 27,
   "id": "9cca3589",
   "metadata": {},
   "outputs": [
    {
     "name": "stdout",
     "output_type": "stream",
     "text": [
      "    sentiment                                              tweet\n",
      "0     Neutral  BBC News - Amazon boss Jeff Bezos rejects clai...\n",
      "1    Negative  @Microsoft Why do I pay for WORD when it funct...\n",
      "2    Negative  CSGO matchmaking is so full of closet hacking,...\n",
      "3     Neutral  Now the President is slapping Americans in the...\n",
      "4    Negative  Hi @EAHelp I’ve had Madeleine McCann in my cel...\n",
      "..        ...                                                ...\n",
      "823  Negative  Please explain how this is possible! How can t...\n",
      "824  Positive  Good on Sony. As much as I want to see the new...\n",
      "825  Positive  Today sucked so it’s time to drink wine n play...\n",
      "826  Positive  Bought a fraction of Microsoft today. Small wins.\n",
      "827   Neutral  Johnson & Johnson to stop selling talc baby po...\n",
      "\n",
      "[828 rows x 2 columns]\n"
     ]
    }
   ],
   "source": [
    "# Assuming your DataFrame is named 'df1'\n",
    "df1 = df1[df1['sentiment'] != 'Irrelevant']\n",
    "\n",
    "# Reset the index after filtering\n",
    "df1.reset_index(drop=True, inplace=True)\n",
    "\n",
    "# Display the resulting DataFrame\n",
    "print(df1)"
   ]
  },
  {
   "cell_type": "code",
   "execution_count": 28,
   "id": "3fd5f83d",
   "metadata": {},
   "outputs": [
    {
     "name": "stdout",
     "output_type": "stream",
     "text": [
      "                                                 tweet sentiment\n",
      "0    BBC News - Amazon boss Jeff Bezos rejects clai...   Neutral\n",
      "1    @Microsoft Why do I pay for WORD when it funct...  Negative\n",
      "2    CSGO matchmaking is so full of closet hacking,...  Negative\n",
      "3    Now the President is slapping Americans in the...   Neutral\n",
      "4    Hi @EAHelp I’ve had Madeleine McCann in my cel...  Negative\n",
      "..                                                 ...       ...\n",
      "823  Please explain how this is possible! How can t...  Negative\n",
      "824  Good on Sony. As much as I want to see the new...  Positive\n",
      "825  Today sucked so it’s time to drink wine n play...  Positive\n",
      "826  Bought a fraction of Microsoft today. Small wins.  Positive\n",
      "827  Johnson & Johnson to stop selling talc baby po...   Neutral\n",
      "\n",
      "[828 rows x 2 columns]\n"
     ]
    }
   ],
   "source": [
    "# Reorder the columns\n",
    "df1 = df1[['tweet', 'sentiment']]\n",
    "\n",
    "# Display the resulting DataFrame\n",
    "print(df1)"
   ]
  },
  {
   "cell_type": "code",
   "execution_count": 29,
   "id": "0a5b1305",
   "metadata": {},
   "outputs": [],
   "source": [
    "import re\n",
    "\n",
    "def preprocess_text(text):\n",
    "    # Check if the text is not NaN\n",
    "    if isinstance(text, str):\n",
    "        text = text.lower()\n",
    "        text = re.sub(r'[^a-zA-Z\\s]', '', text)\n",
    "        # Add more preprocessing steps if needed\n",
    "        return text\n",
    "    else:\n",
    "        return \"\"\n",
    "\n",
    "df1['clean_text'] = df1['tweet'].apply(preprocess_text)"
   ]
  },
  {
   "cell_type": "code",
   "execution_count": 30,
   "id": "093336cb",
   "metadata": {},
   "outputs": [],
   "source": [
    "from nltk.tokenize import word_tokenize\n",
    "\n",
    "df1['tokens'] = df1['clean_text'].apply(word_tokenize)"
   ]
  },
  {
   "cell_type": "code",
   "execution_count": 31,
   "id": "bf2959ea",
   "metadata": {},
   "outputs": [
    {
     "data": {
      "text/plain": [
       "[('python', 3),\n",
       " ('is', 3),\n",
       " ('data', 3),\n",
       " ('the', 3),\n",
       " ('fantastic', 2),\n",
       " ('for', 2),\n",
       " ('science', 2),\n",
       " ('are', 2),\n",
       " ('just', 1),\n",
       " ('saw', 1)]"
      ]
     },
     "execution_count": 31,
     "metadata": {},
     "output_type": "execute_result"
    }
   ],
   "source": [
    "from nltk import FreqDist\n",
    "\n",
    "all_words1 = [word for tokens in df1['tokens'] for word in tokens]\n",
    "freq_dist = FreqDist(all_words)\n",
    "freq_dist.most_common(10)"
   ]
  },
  {
   "cell_type": "code",
   "execution_count": 32,
   "id": "b6564dd7",
   "metadata": {},
   "outputs": [
    {
     "data": {
      "image/png": "[encoded data removed]",
      "text/plain": [
       "<Figure size 640x480 with 1 Axes>"
      ]
     },
     "metadata": {},
     "output_type": "display_data"
    }
   ],
   "source": [
    "sns.countplot(x='sentiment', data=df1)\n",
    "plt.title('Sentiment Distribution')\n",
    "plt.show()"
   ]
  },
  {
   "cell_type": "code",
   "execution_count": 33,
   "id": "08a0a03c",
   "metadata": {},
   "outputs": [
    {
     "name": "stdout",
     "output_type": "stream",
     "text": [
      "                                                    tweet sentiment  \\\n",
      "0       when modi promised “minimum government maximum...  negative   \n",
      "1       talk all the nonsense and continue all the dra...   neutral   \n",
      "2       what did just say vote for modi  welcome bjp t...  positive   \n",
      "3       asking his supporters prefix chowkidar their n...  positive   \n",
      "4       answer who among these the most powerful world...  positive   \n",
      "...                                                   ...       ...   \n",
      "162975  why these 456 crores paid neerav modi not reco...  negative   \n",
      "162976  dear rss terrorist payal gawar what about modi...  negative   \n",
      "162977  did you cover her interaction forum where she ...   neutral   \n",
      "162978  there big project came into india modi dream p...   neutral   \n",
      "162979  have you ever listen about like gurukul where ...  positive   \n",
      "\n",
      "                                               clean_text  \\\n",
      "0       when modi promised minimum government maximum ...   \n",
      "1       talk all the nonsense and continue all the dra...   \n",
      "2       what did just say vote for modi  welcome bjp t...   \n",
      "3       asking his supporters prefix chowkidar their n...   \n",
      "4       answer who among these the most powerful world...   \n",
      "...                                                   ...   \n",
      "162975  why these  crores paid neerav modi not recover...   \n",
      "162976  dear rss terrorist payal gawar what about modi...   \n",
      "162977  did you cover her interaction forum where she ...   \n",
      "162978  there big project came into india modi dream p...   \n",
      "162979  have you ever listen about like gurukul where ...   \n",
      "\n",
      "                                                   tokens  text_length  \n",
      "0       [when, modi, promised, minimum, government, ma...          208  \n",
      "1       [talk, all, the, nonsense, and, continue, all,...           68  \n",
      "2       [what, did, just, say, vote, for, modi, welcom...          117  \n",
      "3       [asking, his, supporters, prefix, chowkidar, t...          212  \n",
      "4       [answer, who, among, these, the, most, powerfu...           81  \n",
      "...                                                   ...          ...  \n",
      "162975  [why, these, crores, paid, neerav, modi, not, ...          105  \n",
      "162976  [dear, rss, terrorist, payal, gawar, what, abo...          244  \n",
      "162977  [did, you, cover, her, interaction, forum, whe...           51  \n",
      "162978  [there, big, project, came, into, india, modi,...           77  \n",
      "162979  [have, you, ever, listen, about, like, gurukul...          216  \n",
      "\n",
      "[162980 rows x 5 columns]\n",
      "                                                 tweet sentiment  \\\n",
      "0    BBC News - Amazon boss Jeff Bezos rejects clai...   Neutral   \n",
      "1    @Microsoft Why do I pay for WORD when it funct...  Negative   \n",
      "2    CSGO matchmaking is so full of closet hacking,...  Negative   \n",
      "3    Now the President is slapping Americans in the...   Neutral   \n",
      "4    Hi @EAHelp I’ve had Madeleine McCann in my cel...  Negative   \n",
      "..                                                 ...       ...   \n",
      "823  Please explain how this is possible! How can t...  Negative   \n",
      "824  Good on Sony. As much as I want to see the new...  Positive   \n",
      "825  Today sucked so it’s time to drink wine n play...  Positive   \n",
      "826  Bought a fraction of Microsoft today. Small wins.  Positive   \n",
      "827  Johnson & Johnson to stop selling talc baby po...   Neutral   \n",
      "\n",
      "                                            clean_text  \\\n",
      "0    bbc news  amazon boss jeff bezos rejects claim...   \n",
      "1    microsoft why do i pay for word when it functi...   \n",
      "2    csgo matchmaking is so full of closet hacking ...   \n",
      "3    now the president is slapping americans in the...   \n",
      "4    hi eahelp ive had madeleine mccann in my cella...   \n",
      "..                                                 ...   \n",
      "823  please explain how this is possible how can th...   \n",
      "824  good on sony as much as i want to see the new ...   \n",
      "825  today sucked so its time to drink wine n play ...   \n",
      "826    bought a fraction of microsoft today small wins   \n",
      "827  johnson  johnson to stop selling talc baby pow...   \n",
      "\n",
      "                                                tokens  \n",
      "0    [bbc, news, amazon, boss, jeff, bezos, rejects...  \n",
      "1    [microsoft, why, do, i, pay, for, word, when, ...  \n",
      "2    [csgo, matchmaking, is, so, full, of, closet, ...  \n",
      "3    [now, the, president, is, slapping, americans,...  \n",
      "4    [hi, eahelp, ive, had, madeleine, mccann, in, ...  \n",
      "..                                                 ...  \n",
      "823  [please, explain, how, this, is, possible, how...  \n",
      "824  [good, on, sony, as, much, as, i, want, to, se...  \n",
      "825  [today, sucked, so, its, time, to, drink, wine...  \n",
      "826  [bought, a, fraction, of, microsoft, today, sm...  \n",
      "827  [johnson, johnson, to, stop, selling, talc, ba...  \n",
      "\n",
      "[828 rows x 4 columns]\n"
     ]
    }
   ],
   "source": [
    "print(df)\n",
    "print(df1)"
   ]
  },
  {
   "cell_type": "code",
   "execution_count": 34,
   "id": "18242ffd",
   "metadata": {},
   "outputs": [],
   "source": [
    "import pandas as pd\n",
    "\n",
    "# Assuming df and df1 are your two dataframes\n",
    "new_df = pd.concat([df, df1], ignore_index=True)\n",
    "\n",
    "# Optional: Save the merged dataframe to a new CSV file\n",
    "new_df.to_csv('combinedtweets_dataset.csv', index=False)"
   ]
  },
  {
   "cell_type": "code",
   "execution_count": 35,
   "id": "9daccc5b",
   "metadata": {},
   "outputs": [
    {
     "name": "stdout",
     "output_type": "stream",
     "text": [
      "                                                    tweet sentiment  \\\n",
      "0       when modi promised “minimum government maximum...  negative   \n",
      "1       talk all the nonsense and continue all the dra...   neutral   \n",
      "2       what did just say vote for modi  welcome bjp t...  positive   \n",
      "3       asking his supporters prefix chowkidar their n...  positive   \n",
      "4       answer who among these the most powerful world...  positive   \n",
      "...                                                   ...       ...   \n",
      "163803  Please explain how this is possible! How can t...  Negative   \n",
      "163804  Good on Sony. As much as I want to see the new...  Positive   \n",
      "163805  Today sucked so it’s time to drink wine n play...  Positive   \n",
      "163806  Bought a fraction of Microsoft today. Small wins.  Positive   \n",
      "163807  Johnson & Johnson to stop selling talc baby po...   Neutral   \n",
      "\n",
      "                                               clean_text  \\\n",
      "0       when modi promised minimum government maximum ...   \n",
      "1       talk all the nonsense and continue all the dra...   \n",
      "2       what did just say vote for modi  welcome bjp t...   \n",
      "3       asking his supporters prefix chowkidar their n...   \n",
      "4       answer who among these the most powerful world...   \n",
      "...                                                   ...   \n",
      "163803  please explain how this is possible how can th...   \n",
      "163804  good on sony as much as i want to see the new ...   \n",
      "163805  today sucked so its time to drink wine n play ...   \n",
      "163806    bought a fraction of microsoft today small wins   \n",
      "163807  johnson  johnson to stop selling talc baby pow...   \n",
      "\n",
      "                                                   tokens  text_length  \n",
      "0       [when, modi, promised, minimum, government, ma...        208.0  \n",
      "1       [talk, all, the, nonsense, and, continue, all,...         68.0  \n",
      "2       [what, did, just, say, vote, for, modi, welcom...        117.0  \n",
      "3       [asking, his, supporters, prefix, chowkidar, t...        212.0  \n",
      "4       [answer, who, among, these, the, most, powerfu...         81.0  \n",
      "...                                                   ...          ...  \n",
      "163803  [please, explain, how, this, is, possible, how...          NaN  \n",
      "163804  [good, on, sony, as, much, as, i, want, to, se...          NaN  \n",
      "163805  [today, sucked, so, its, time, to, drink, wine...          NaN  \n",
      "163806  [bought, a, fraction, of, microsoft, today, sm...          NaN  \n",
      "163807  [johnson, johnson, to, stop, selling, talc, ba...          NaN  \n",
      "\n",
      "[163808 rows x 5 columns]\n"
     ]
    }
   ],
   "source": [
    "print(new_df)"
   ]
  },
  {
   "cell_type": "code",
   "execution_count": 36,
   "id": "e9777e16",
   "metadata": {},
   "outputs": [
    {
     "name": "stdout",
     "output_type": "stream",
     "text": [
      "                                                tweet sentiment  \\\n",
      "0   when modi promised “minimum government maximum...  negative   \n",
      "1   talk all the nonsense and continue all the dra...   neutral   \n",
      "2   what did just say vote for modi  welcome bjp t...  positive   \n",
      "3   asking his supporters prefix chowkidar their n...  positive   \n",
      "4   answer who among these the most powerful world...  positive   \n",
      "5            kiya tho refresh maarkefir comment karo    neutral   \n",
      "6   surat women perform yagna seeks divine grace f...   neutral   \n",
      "7   this comes from cabinet which has scholars lik...   neutral   \n",
      "8   with upcoming election india saga going import...  positive   \n",
      "9                          gandhi was gay does modi    positive   \n",
      "10  things like demonetisation gst goods and servi...  positive   \n",
      "11  hope tuthukudi people would prefer honest well...  positive   \n",
      "12                  calm waters wheres the modi wave   positive   \n",
      "13  one vote can make all the difference anil kapo...   neutral   \n",
      "14  one vote can make all the difference anil kapo...   neutral   \n",
      "15  vote such party and leadershipwho can take fas...  negative   \n",
      "16                 vote modi who has not created jobs   neutral   \n",
      "17  through our vote ensure govt need and deserve ...   neutral   \n",
      "18  dont play with the words was talking about the...  positive   \n",
      "19  didn’ write chowkidar does mean ’ anti modi tr...  negative   \n",
      "\n",
      "                                           clean_text  \\\n",
      "0   when modi promised minimum government maximum ...   \n",
      "1   talk all the nonsense and continue all the dra...   \n",
      "2   what did just say vote for modi  welcome bjp t...   \n",
      "3   asking his supporters prefix chowkidar their n...   \n",
      "4   answer who among these the most powerful world...   \n",
      "5            kiya tho refresh maarkefir comment karo    \n",
      "6   surat women perform yagna seeks divine grace f...   \n",
      "7   this comes from cabinet which has scholars lik...   \n",
      "8   with upcoming election india saga going import...   \n",
      "9                          gandhi was gay does modi     \n",
      "10  things like demonetisation gst goods and servi...   \n",
      "11  hope tuthukudi people would prefer honest well...   \n",
      "12                  calm waters wheres the modi wave    \n",
      "13  one vote can make all the difference anil kapo...   \n",
      "14  one vote can make all the difference anil kapo...   \n",
      "15  vote such party and leadershipwho can take fas...   \n",
      "16                 vote modi who has not created jobs   \n",
      "17  through our vote ensure govt need and deserve ...   \n",
      "18  dont play with the words was talking about the...   \n",
      "19  didn write chowkidar does mean  anti modi try ...   \n",
      "\n",
      "                                               tokens  text_length  \n",
      "0   [when, modi, promised, minimum, government, ma...        208.0  \n",
      "1   [talk, all, the, nonsense, and, continue, all,...         68.0  \n",
      "2   [what, did, just, say, vote, for, modi, welcom...        117.0  \n",
      "3   [asking, his, supporters, prefix, chowkidar, t...        212.0  \n",
      "4   [answer, who, among, these, the, most, powerfu...         81.0  \n",
      "5      [kiya, tho, refresh, maarkefir, comment, karo]         40.0  \n",
      "6   [surat, women, perform, yagna, seeks, divine, ...         76.0  \n",
      "7   [this, comes, from, cabinet, which, has, schol...         84.0  \n",
      "8   [with, upcoming, election, india, saga, going,...        156.0  \n",
      "9                      [gandhi, was, gay, does, modi]         26.0  \n",
      "10  [things, like, demonetisation, gst, goods, and...        232.0  \n",
      "11  [hope, tuthukudi, people, would, prefer, hones...        130.0  \n",
      "12            [calm, waters, wheres, the, modi, wave]         33.0  \n",
      "13  [one, vote, can, make, all, the, difference, a...        124.0  \n",
      "14  [one, vote, can, make, all, the, difference, a...        115.0  \n",
      "15  [vote, such, party, and, leadershipwho, can, t...        119.0  \n",
      "16         [vote, modi, who, has, not, created, jobs]         34.0  \n",
      "17  [through, our, vote, ensure, govt, need, and, ...         99.0  \n",
      "18  [dont, play, with, the, words, was, talking, a...        210.0  \n",
      "19  [didn, write, chowkidar, does, mean, anti, mod...         92.0  \n"
     ]
    }
   ],
   "source": [
    "print(new_df.head(20))"
   ]
  },
  {
   "cell_type": "code",
   "execution_count": 37,
   "id": "14dd12c3",
   "metadata": {},
   "outputs": [
    {
     "name": "stderr",
     "output_type": "stream",
     "text": [
      "[nltk_data] Downloading package stopwords to\n",
      "[nltk_data]     C:\\Users\\Lenovo\\AppData\\Roaming\\nltk_data...\n",
      "[nltk_data]   Package stopwords is already up-to-date!\n",
      "[nltk_data] Downloading package wordnet to\n",
      "[nltk_data]     C:\\Users\\Lenovo\\AppData\\Roaming\\nltk_data...\n",
      "[nltk_data]   Package wordnet is already up-to-date!\n",
      "[nltk_data] Downloading package omw-1.4 to\n",
      "[nltk_data]     C:\\Users\\Lenovo\\AppData\\Roaming\\nltk_data...\n",
      "[nltk_data]   Package omw-1.4 is already up-to-date!\n"
     ]
    },
    {
     "data": {
      "text/plain": [
       "True"
      ]
     },
     "execution_count": 37,
     "metadata": {},
     "output_type": "execute_result"
    }
   ],
   "source": [
    "import nltk\n",
    "nltk.download('stopwords')\n",
    "nltk.download('wordnet')\n",
    "nltk.download('omw-1.4')"
   ]
  },
  {
   "cell_type": "code",
   "execution_count": 38,
   "id": "de1cc63b",
   "metadata": {},
   "outputs": [],
   "source": [
    "from nltk.corpus import stopwords\n",
    "from nltk.stem import WordNetLemmatizer\n",
    "import re\n",
    "\n",
    "stop_words = set(stopwords.words('english'))\n",
    "lemmatizer = WordNetLemmatizer()\n",
    "\n",
    "def preprocess_text_advanced(text):\n",
    "    text = str(text).lower()  # Ensure text is a string\n",
    "    text = re.sub(r'[^a-zA-Z\\s]', '', text)\n",
    "    tokens = word_tokenize(text)\n",
    "    tokens = [lemmatizer.lemmatize(token) for token in tokens if token not in stop_words]\n",
    "    return tokens\n",
    "\n",
    "new_df['tokens_advanced'] = new_df['clean_text'].apply(preprocess_text_advanced)"
   ]
  },
  {
   "cell_type": "code",
   "execution_count": 39,
   "id": "aae3fefc",
   "metadata": {},
   "outputs": [
    {
     "data": {
      "text/html": [
       "<div>\n",
       "<style scoped>\n",
       "    .dataframe tbody tr th:only-of-type {\n",
       "        vertical-align: middle;\n",
       "    }\n",
       "\n",
       "    .dataframe tbody tr th {\n",
       "        vertical-align: top;\n",
       "    }\n",
       "\n",
       "    .dataframe thead th {\n",
       "        text-align: right;\n",
       "    }\n",
       "</style>\n",
       "<table border=\"1\" class=\"dataframe\">\n",
       "  <thead>\n",
       "    <tr style=\"text-align: right;\">\n",
       "      <th></th>\n",
       "      <th>clean_text</th>\n",
       "      <th>tokens_advanced</th>\n",
       "    </tr>\n",
       "  </thead>\n",
       "  <tbody>\n",
       "    <tr>\n",
       "      <th>0</th>\n",
       "      <td>when modi promised minimum government maximum ...</td>\n",
       "      <td>[modi, promised, minimum, government, maximum,...</td>\n",
       "    </tr>\n",
       "    <tr>\n",
       "      <th>1</th>\n",
       "      <td>talk all the nonsense and continue all the dra...</td>\n",
       "      <td>[talk, nonsense, continue, drama, vote, modi]</td>\n",
       "    </tr>\n",
       "    <tr>\n",
       "      <th>2</th>\n",
       "      <td>what did just say vote for modi  welcome bjp t...</td>\n",
       "      <td>[say, vote, modi, welcome, bjp, told, rahul, m...</td>\n",
       "    </tr>\n",
       "    <tr>\n",
       "      <th>3</th>\n",
       "      <td>asking his supporters prefix chowkidar their n...</td>\n",
       "      <td>[asking, supporter, prefix, chowkidar, name, m...</td>\n",
       "    </tr>\n",
       "    <tr>\n",
       "      <th>4</th>\n",
       "      <td>answer who among these the most powerful world...</td>\n",
       "      <td>[answer, among, powerful, world, leader, today...</td>\n",
       "    </tr>\n",
       "  </tbody>\n",
       "</table>\n",
       "</div>"
      ],
      "text/plain": [
       "                                          clean_text  \\\n",
       "0  when modi promised minimum government maximum ...   \n",
       "1  talk all the nonsense and continue all the dra...   \n",
       "2  what did just say vote for modi  welcome bjp t...   \n",
       "3  asking his supporters prefix chowkidar their n...   \n",
       "4  answer who among these the most powerful world...   \n",
       "\n",
       "                                     tokens_advanced  \n",
       "0  [modi, promised, minimum, government, maximum,...  \n",
       "1      [talk, nonsense, continue, drama, vote, modi]  \n",
       "2  [say, vote, modi, welcome, bjp, told, rahul, m...  \n",
       "3  [asking, supporter, prefix, chowkidar, name, m...  \n",
       "4  [answer, among, powerful, world, leader, today...  "
      ]
     },
     "execution_count": 39,
     "metadata": {},
     "output_type": "execute_result"
    }
   ],
   "source": [
    "new_df[['clean_text', 'tokens_advanced']].head()"
   ]
  },
  {
   "cell_type": "code",
   "execution_count": 40,
   "id": "f7318856",
   "metadata": {},
   "outputs": [],
   "source": [
    "# Drop rows with missing values in the 'clean_text' column\n",
    "new_df = new_df.dropna(subset=['clean_text'])\n",
    "# Drop duplicate rows based on 'clean_text'\n",
    "new_df = new_df.drop_duplicates(subset=['clean_text'])"
   ]
  },
  {
   "cell_type": "code",
   "execution_count": 41,
   "id": "f6895d9b",
   "metadata": {},
   "outputs": [
    {
     "name": "stdout",
     "output_type": "stream",
     "text": [
      "0\n"
     ]
    }
   ],
   "source": [
    "# Assuming new_df is your combined DataFrame\n",
    "# Calculate text_length for rows where it is null\n",
    "new_df.loc[new_df['text_length'].isnull(), 'text_length'] = new_df.loc[new_df['text_length'].isnull(), 'tweet'].apply(len)\n",
    "\n",
    "# Verify that there are no more null values in 'text_length'\n",
    "print(new_df['text_length'].isnull().sum())"
   ]
  },
  {
   "cell_type": "code",
   "execution_count": 42,
   "id": "e6121117",
   "metadata": {},
   "outputs": [
    {
     "data": {
      "text/html": [
       "<div>\n",
       "<style scoped>\n",
       "    .dataframe tbody tr th:only-of-type {\n",
       "        vertical-align: middle;\n",
       "    }\n",
       "\n",
       "    .dataframe tbody tr th {\n",
       "        vertical-align: top;\n",
       "    }\n",
       "\n",
       "    .dataframe thead th {\n",
       "        text-align: right;\n",
       "    }\n",
       "</style>\n",
       "<table border=\"1\" class=\"dataframe\">\n",
       "  <thead>\n",
       "    <tr style=\"text-align: right;\">\n",
       "      <th></th>\n",
       "      <th>tweet</th>\n",
       "      <th>sentiment</th>\n",
       "      <th>clean_text</th>\n",
       "      <th>tokens</th>\n",
       "      <th>text_length</th>\n",
       "      <th>tokens_advanced</th>\n",
       "    </tr>\n",
       "  </thead>\n",
       "  <tbody>\n",
       "    <tr>\n",
       "      <th>0</th>\n",
       "      <td>when modi promised “minimum government maximum...</td>\n",
       "      <td>Negative</td>\n",
       "      <td>when modi promised minimum government maximum ...</td>\n",
       "      <td>[when, modi, promised, minimum, government, ma...</td>\n",
       "      <td>208.0</td>\n",
       "      <td>[modi, promised, minimum, government, maximum,...</td>\n",
       "    </tr>\n",
       "    <tr>\n",
       "      <th>1</th>\n",
       "      <td>talk all the nonsense and continue all the dra...</td>\n",
       "      <td>Neutral</td>\n",
       "      <td>talk all the nonsense and continue all the dra...</td>\n",
       "      <td>[talk, all, the, nonsense, and, continue, all,...</td>\n",
       "      <td>68.0</td>\n",
       "      <td>[talk, nonsense, continue, drama, vote, modi]</td>\n",
       "    </tr>\n",
       "    <tr>\n",
       "      <th>2</th>\n",
       "      <td>what did just say vote for modi  welcome bjp t...</td>\n",
       "      <td>Positive</td>\n",
       "      <td>what did just say vote for modi  welcome bjp t...</td>\n",
       "      <td>[what, did, just, say, vote, for, modi, welcom...</td>\n",
       "      <td>117.0</td>\n",
       "      <td>[say, vote, modi, welcome, bjp, told, rahul, m...</td>\n",
       "    </tr>\n",
       "    <tr>\n",
       "      <th>3</th>\n",
       "      <td>asking his supporters prefix chowkidar their n...</td>\n",
       "      <td>Positive</td>\n",
       "      <td>asking his supporters prefix chowkidar their n...</td>\n",
       "      <td>[asking, his, supporters, prefix, chowkidar, t...</td>\n",
       "      <td>212.0</td>\n",
       "      <td>[asking, supporter, prefix, chowkidar, name, m...</td>\n",
       "    </tr>\n",
       "    <tr>\n",
       "      <th>4</th>\n",
       "      <td>answer who among these the most powerful world...</td>\n",
       "      <td>Positive</td>\n",
       "      <td>answer who among these the most powerful world...</td>\n",
       "      <td>[answer, who, among, these, the, most, powerfu...</td>\n",
       "      <td>81.0</td>\n",
       "      <td>[answer, among, powerful, world, leader, today...</td>\n",
       "    </tr>\n",
       "    <tr>\n",
       "      <th>5</th>\n",
       "      <td>kiya tho refresh maarkefir comment karo</td>\n",
       "      <td>Neutral</td>\n",
       "      <td>kiya tho refresh maarkefir comment karo</td>\n",
       "      <td>[kiya, tho, refresh, maarkefir, comment, karo]</td>\n",
       "      <td>40.0</td>\n",
       "      <td>[kiya, tho, refresh, maarkefir, comment, karo]</td>\n",
       "    </tr>\n",
       "    <tr>\n",
       "      <th>6</th>\n",
       "      <td>surat women perform yagna seeks divine grace f...</td>\n",
       "      <td>Neutral</td>\n",
       "      <td>surat women perform yagna seeks divine grace f...</td>\n",
       "      <td>[surat, women, perform, yagna, seeks, divine, ...</td>\n",
       "      <td>76.0</td>\n",
       "      <td>[surat, woman, perform, yagna, seek, divine, g...</td>\n",
       "    </tr>\n",
       "    <tr>\n",
       "      <th>7</th>\n",
       "      <td>this comes from cabinet which has scholars lik...</td>\n",
       "      <td>Neutral</td>\n",
       "      <td>this comes from cabinet which has scholars lik...</td>\n",
       "      <td>[this, comes, from, cabinet, which, has, schol...</td>\n",
       "      <td>84.0</td>\n",
       "      <td>[come, cabinet, scholar, like, modi, smriti, h...</td>\n",
       "    </tr>\n",
       "    <tr>\n",
       "      <th>8</th>\n",
       "      <td>with upcoming election india saga going import...</td>\n",
       "      <td>Positive</td>\n",
       "      <td>with upcoming election india saga going import...</td>\n",
       "      <td>[with, upcoming, election, india, saga, going,...</td>\n",
       "      <td>156.0</td>\n",
       "      <td>[upcoming, election, india, saga, going, impor...</td>\n",
       "    </tr>\n",
       "    <tr>\n",
       "      <th>9</th>\n",
       "      <td>gandhi was gay does modi</td>\n",
       "      <td>Positive</td>\n",
       "      <td>gandhi was gay does modi</td>\n",
       "      <td>[gandhi, was, gay, does, modi]</td>\n",
       "      <td>26.0</td>\n",
       "      <td>[gandhi, gay, modi]</td>\n",
       "    </tr>\n",
       "  </tbody>\n",
       "</table>\n",
       "</div>"
      ],
      "text/plain": [
       "                                               tweet sentiment  \\\n",
       "0  when modi promised “minimum government maximum...  Negative   \n",
       "1  talk all the nonsense and continue all the dra...   Neutral   \n",
       "2  what did just say vote for modi  welcome bjp t...  Positive   \n",
       "3  asking his supporters prefix chowkidar their n...  Positive   \n",
       "4  answer who among these the most powerful world...  Positive   \n",
       "5           kiya tho refresh maarkefir comment karo    Neutral   \n",
       "6  surat women perform yagna seeks divine grace f...   Neutral   \n",
       "7  this comes from cabinet which has scholars lik...   Neutral   \n",
       "8  with upcoming election india saga going import...  Positive   \n",
       "9                         gandhi was gay does modi    Positive   \n",
       "\n",
       "                                          clean_text  \\\n",
       "0  when modi promised minimum government maximum ...   \n",
       "1  talk all the nonsense and continue all the dra...   \n",
       "2  what did just say vote for modi  welcome bjp t...   \n",
       "3  asking his supporters prefix chowkidar their n...   \n",
       "4  answer who among these the most powerful world...   \n",
       "5           kiya tho refresh maarkefir comment karo    \n",
       "6  surat women perform yagna seeks divine grace f...   \n",
       "7  this comes from cabinet which has scholars lik...   \n",
       "8  with upcoming election india saga going import...   \n",
       "9                         gandhi was gay does modi     \n",
       "\n",
       "                                              tokens  text_length  \\\n",
       "0  [when, modi, promised, minimum, government, ma...        208.0   \n",
       "1  [talk, all, the, nonsense, and, continue, all,...         68.0   \n",
       "2  [what, did, just, say, vote, for, modi, welcom...        117.0   \n",
       "3  [asking, his, supporters, prefix, chowkidar, t...        212.0   \n",
       "4  [answer, who, among, these, the, most, powerfu...         81.0   \n",
       "5     [kiya, tho, refresh, maarkefir, comment, karo]         40.0   \n",
       "6  [surat, women, perform, yagna, seeks, divine, ...         76.0   \n",
       "7  [this, comes, from, cabinet, which, has, schol...         84.0   \n",
       "8  [with, upcoming, election, india, saga, going,...        156.0   \n",
       "9                     [gandhi, was, gay, does, modi]         26.0   \n",
       "\n",
       "                                     tokens_advanced  \n",
       "0  [modi, promised, minimum, government, maximum,...  \n",
       "1      [talk, nonsense, continue, drama, vote, modi]  \n",
       "2  [say, vote, modi, welcome, bjp, told, rahul, m...  \n",
       "3  [asking, supporter, prefix, chowkidar, name, m...  \n",
       "4  [answer, among, powerful, world, leader, today...  \n",
       "5     [kiya, tho, refresh, maarkefir, comment, karo]  \n",
       "6  [surat, woman, perform, yagna, seek, divine, g...  \n",
       "7  [come, cabinet, scholar, like, modi, smriti, h...  \n",
       "8  [upcoming, election, india, saga, going, impor...  \n",
       "9                                [gandhi, gay, modi]  "
      ]
     },
     "execution_count": 42,
     "metadata": {},
     "output_type": "execute_result"
    }
   ],
   "source": [
    "# Assuming your DataFrame is named new_df\n",
    "new_df['sentiment'] = new_df['sentiment'].str.lower()\n",
    "\n",
    "# Mapping to combine similar classes\n",
    "sentiment_mapping = {\n",
    "    'positive': 'Positive',\n",
    "    'neutral': 'Neutral',\n",
    "    'negative': 'Negative'\n",
    "}\n",
    "\n",
    "new_df['sentiment'] = new_df['sentiment'].map(sentiment_mapping)\n",
    "\n",
    "new_df.head(10)"
   ]
  },
  {
   "cell_type": "code",
   "execution_count": 43,
   "id": "d1005f0b",
   "metadata": {},
   "outputs": [
    {
     "name": "stdout",
     "output_type": "stream",
     "text": [
      "                                                    tweet sentiment  \\\n",
      "150934  exactly and you know you cant that until you s...  Positive   \n",
      "46806   india shot down military satellite just like t...  Negative   \n",
      "2535    former punjab dgp monday tweeted photograph hi...  Positive   \n",
      "6882    why made people levied cst lst and many taxes ...  Positive   \n",
      "42644   all can speculate but modi always far away fro...  Positive   \n",
      "...                                                   ...       ...   \n",
      "61074   the liberals want credit nehru for government ...  Positive   \n",
      "146580  ‘oppn scared chowkidar people trust’ assam mod...   Neutral   \n",
      "67733   forms panel probe modi speech asat test violat...   Neutral   \n",
      "10716   murli manohar joshi who was all set contest ag...   Neutral   \n",
      "3933    “final assault”\\nmeaning poor people existed b...  Negative   \n",
      "\n",
      "                                               clean_text  \\\n",
      "150934  exactly and you know you cant that until you s...   \n",
      "46806   india shot down military satellite just like t...   \n",
      "2535    former punjab dgp monday tweeted photograph hi...   \n",
      "6882    why made people levied cst lst and many taxes ...   \n",
      "42644   all can speculate but modi always far away fro...   \n",
      "...                                                   ...   \n",
      "61074   the liberals want credit nehru for government ...   \n",
      "146580  oppn scared chowkidar people trust assam modi ...   \n",
      "67733   forms panel probe modi speech asat test violat...   \n",
      "10716   murli manohar joshi who was all set contest ag...   \n",
      "3933    final assault\\nmeaning poor people existed bef...   \n",
      "\n",
      "                                                   tokens  text_length  \\\n",
      "150934  [exactly, and, you, know, you, cant, that, unt...        166.0   \n",
      "46806   [india, shot, down, military, satellite, just,...        223.0   \n",
      "2535    [former, punjab, dgp, monday, tweeted, photogr...        137.0   \n",
      "6882    [why, made, people, levied, cst, lst, and, man...        191.0   \n",
      "42644   [all, can, speculate, but, modi, always, far, ...        120.0   \n",
      "...                                                   ...          ...   \n",
      "61074   [the, liberals, want, credit, nehru, for, gove...        138.0   \n",
      "146580  [oppn, scared, chowkidar, people, trust, assam...         61.0   \n",
      "67733   [forms, panel, probe, modi, speech, asat, test...         59.0   \n",
      "10716   [murli, manohar, joshi, who, was, all, set, co...        141.0   \n",
      "3933    [final, assault, meaning, poor, people, existe...        133.0   \n",
      "\n",
      "                                          tokens_advanced  \n",
      "150934  [exactly, know, cant, stop, saying, integral, ...  \n",
      "46806   [india, shot, military, satellite, like, way, ...  \n",
      "2535    [former, punjab, dgp, monday, tweeted, photogr...  \n",
      "6882    [made, people, levied, cst, lst, many, tax, re...  \n",
      "42644   [speculate, modi, always, far, away, speculati...  \n",
      "...                                                   ...  \n",
      "61074   [liberal, want, credit, nehru, government, isr...  \n",
      "146580  [oppn, scared, chowkidar, people, trust, assam...  \n",
      "67733   [form, panel, probe, modi, speech, asat, test,...  \n",
      "10716   [murli, manohar, joshi, set, contest, earlier,...  \n",
      "3933    [final, assault, meaning, poor, people, existe...  \n",
      "\n",
      "[16350 rows x 6 columns]\n"
     ]
    }
   ],
   "source": [
    "small_df = new_df.sample(frac=0.1, random_state=42)\n",
    "print(small_df)"
   ]
  },
  {
   "cell_type": "code",
   "execution_count": 44,
   "id": "5a31b5fa",
   "metadata": {},
   "outputs": [],
   "source": [
    "from sklearn.feature_extraction.text import TfidfVectorizer\n",
    "from sklearn.model_selection import train_test_split\n",
    "\n",
    "# Assuming small_df is your smaller dataset\n",
    "vectorizer = TfidfVectorizer()\n",
    "X_small = vectorizer.fit_transform(small_df['clean_text'])\n",
    "y_small = small_df['sentiment']\n",
    "\n",
    "# Splitting the smaller dataset\n",
    "X_train_small, X_test_small, y_train_small, y_test_small = train_test_split(X_small, y_small, test_size=0.2, random_state=42)"
   ]
  },
  {
   "cell_type": "code",
   "execution_count": 45,
   "id": "b31b1c33",
   "metadata": {},
   "outputs": [
    {
     "name": "stdout",
     "output_type": "stream",
     "text": [
      "Accuracy: 0.7862385321100918\n",
      "Classification Report:\n",
      "               precision    recall  f1-score   support\n",
      "\n",
      "    Negative       0.89      0.51      0.65       737\n",
      "     Neutral       0.75      0.88      0.81      1106\n",
      "    Positive       0.79      0.85      0.82      1427\n",
      "\n",
      "    accuracy                           0.79      3270\n",
      "   macro avg       0.81      0.75      0.76      3270\n",
      "weighted avg       0.80      0.79      0.78      3270\n",
      "\n"
     ]
    }
   ],
   "source": [
    "from sklearn.svm import SVC\n",
    "from sklearn.metrics import classification_report, accuracy_score\n",
    "from sklearn.impute import SimpleImputer\n",
    "import numpy as np\n",
    "\n",
    "# Impute missing values\n",
    "imputer = SimpleImputer(strategy='mean')  # Replace with 'median' or 'most_frequent' if needed\n",
    "X_train_small = imputer.fit_transform(X_train_small)\n",
    "X_test_small = imputer.transform(X_test_small)\n",
    "\n",
    "# Ensure the target variable has no NaNs\n",
    "y_train_small = y_train_small.fillna(y_train_small.mode()[0])\n",
    "y_test_small = y_test_small.fillna(y_test_small.mode()[0])\n",
    "\n",
    "# Model training\n",
    "model = SVC()\n",
    "model.fit(X_train_small, y_train_small)\n",
    "\n",
    "# Model evaluation\n",
    "y_pred_small = model.predict(X_test_small)\n",
    "print(\"Accuracy:\", accuracy_score(y_test_small, y_pred_small))\n",
    "print(\"Classification Report:\\n\", classification_report(y_test_small, y_pred_small))\n"
   ]
  },
  {
   "cell_type": "code",
   "execution_count": 46,
   "id": "bab7eb94",
   "metadata": {},
   "outputs": [],
   "source": [
    "from sklearn.feature_extraction.text import TfidfVectorizer\n",
    "from sklearn.model_selection import train_test_split\n",
    "small_df = new_df.sample(n=5000, random_state=42)\n",
    "# Assuming small_df is your smaller dataset\n",
    "vectorizer = TfidfVectorizer()\n",
    "X_small = vectorizer.fit_transform(small_df['clean_text'])\n",
    "y_small = small_df['sentiment']\n",
    "\n",
    "# Splitting the smaller dataset\n",
    "X_train_small, X_test_small, y_train_small, y_test_small = train_test_split(X_small, y_small, test_size=0.2, random_state=42)"
   ]
  },
  {
   "cell_type": "code",
   "execution_count": 47,
   "id": "e591c795",
   "metadata": {},
   "outputs": [
    {
     "name": "stderr",
     "output_type": "stream",
     "text": [
      "D:\\Lenovo\\anaconda3\\Lib\\site-packages\\sklearn\\model_selection\\_search.py:307: UserWarning: The total space of parameters 4 is smaller than n_iter=5. Running 4 iterations. For exhaustive searches, use GridSearchCV.\n",
      "  warnings.warn(\n"
     ]
    },
    {
     "name": "stdout",
     "output_type": "stream",
     "text": [
      "Best Parameters (RandomizedSearchCV): {'kernel': 'linear', 'C': 1}\n",
      "Accuracy: 0.731\n",
      "Classification Report:\n",
      "               precision    recall  f1-score   support\n",
      "\n",
      "    Negative       0.71      0.49      0.58       230\n",
      "     Neutral       0.70      0.82      0.76       338\n",
      "    Positive       0.76      0.79      0.78       432\n",
      "\n",
      "    accuracy                           0.73      1000\n",
      "   macro avg       0.73      0.70      0.70      1000\n",
      "weighted avg       0.73      0.73      0.72      1000\n",
      "\n"
     ]
    }
   ],
   "source": [
    "from sklearn.model_selection import RandomizedSearchCV\n",
    "\n",
    "# Define a smaller parameter grid\n",
    "param_dist = {'C': [0.1, 1], 'kernel': ['linear', 'rbf']}\n",
    "\n",
    "# Create the SVM model\n",
    "svm_model = SVC()\n",
    "\n",
    "# Use RandomizedSearchCV\n",
    "random_search = RandomizedSearchCV(svm_model, param_distributions=param_dist, n_iter=5, cv=5, scoring='accuracy', n_jobs=-1)\n",
    "random_search.fit(X_train_small, y_train_small)\n",
    "\n",
    "# Get the best parameters\n",
    "best_params_random = random_search.best_params_\n",
    "print(\"Best Parameters (RandomizedSearchCV):\", best_params_random)\n",
    "\n",
    "\n",
    "\n",
    "# Train the model with the best parameters on the full dataset\n",
    "best_model_random = SVC(**best_params_random)\n",
    "best_model_random.fit(X_train_small, y_train_small)\n",
    "\n",
    "# Model Evaluation\n",
    "y_pred_small_random = best_model_random.predict(X_test_small)\n",
    "print(\"Accuracy:\", accuracy_score(y_test_small, y_pred_small_random))\n",
    "print(\"Classification Report:\\n\", classification_report(y_test_small, y_pred_small_random))"
   ]
  },
  {
   "cell_type": "code",
   "execution_count": 48,
   "id": "26612f95",
   "metadata": {},
   "outputs": [
    {
     "name": "stderr",
     "output_type": "stream",
     "text": [
      "D:\\Lenovo\\anaconda3\\Lib\\site-packages\\sklearn\\model_selection\\_validation.py:425: FitFailedWarning: \n",
      "45 fits failed out of a total of 135.\n",
      "The score on these train-test partitions for these parameters will be set to nan.\n",
      "If these failures are not expected, you can try to debug them by setting error_score='raise'.\n",
      "\n",
      "Below are more details about the failures:\n",
      "--------------------------------------------------------------------------------\n",
      "45 fits failed with the following error:\n",
      "Traceback (most recent call last):\n",
      "  File \"D:\\Lenovo\\anaconda3\\Lib\\site-packages\\sklearn\\model_selection\\_validation.py\", line 732, in _fit_and_score\n",
      "    estimator.fit(X_train, y_train, **fit_params)\n",
      "  File \"D:\\Lenovo\\anaconda3\\Lib\\site-packages\\sklearn\\base.py\", line 1144, in wrapper\n",
      "    estimator._validate_params()\n",
      "  File \"D:\\Lenovo\\anaconda3\\Lib\\site-packages\\sklearn\\base.py\", line 637, in _validate_params\n",
      "    validate_parameter_constraints(\n",
      "  File \"D:\\Lenovo\\anaconda3\\Lib\\site-packages\\sklearn\\utils\\_param_validation.py\", line 95, in validate_parameter_constraints\n",
      "    raise InvalidParameterError(\n",
      "sklearn.utils._param_validation.InvalidParameterError: The 'gamma' parameter of SVC must be a str among {'scale', 'auto'} or a float in the range [0.0, inf). Got 'sigmoid' instead.\n",
      "\n",
      "  warnings.warn(some_fits_failed_message, FitFailedWarning)\n",
      "D:\\Lenovo\\anaconda3\\Lib\\site-packages\\sklearn\\model_selection\\_search.py:976: UserWarning: One or more of the test scores are non-finite: [0.4325  0.4325  0.4325  0.4325  0.4325  0.4325      nan     nan     nan\n",
      " 0.717   0.655   0.45675 0.717   0.4325  0.4325      nan     nan     nan\n",
      " 0.71625 0.70075 0.47575 0.71625 0.4325  0.4325      nan     nan     nan]\n",
      "  warnings.warn(\n"
     ]
    },
    {
     "name": "stdout",
     "output_type": "stream",
     "text": [
      "Best Parameters: {'C': 1, 'gamma': 'scale', 'kernel': 'linear'}\n",
      "Accuracy: 0.731\n",
      "Classification Report:\n",
      "               precision    recall  f1-score   support\n",
      "\n",
      "    Negative       0.71      0.49      0.58       230\n",
      "     Neutral       0.70      0.82      0.76       338\n",
      "    Positive       0.76      0.79      0.78       432\n",
      "\n",
      "    accuracy                           0.73      1000\n",
      "   macro avg       0.73      0.70      0.70      1000\n",
      "weighted avg       0.73      0.73      0.72      1000\n",
      "\n"
     ]
    }
   ],
   "source": [
    "from sklearn.model_selection import GridSearchCV\n",
    "\n",
    "# Define the parameter grid to search\n",
    "param_grid = {\n",
    "    'C': [0.1, 1, 10],\n",
    "    'kernel': ['linear', 'rbf', 'poly'],\n",
    "    'gamma': ['scale', 'auto', 'sigmoid'],\n",
    "}\n",
    "\n",
    "# Create an SVC model\n",
    "svm_model = SVC()\n",
    "\n",
    "# Perform grid search with cross-validation\n",
    "grid_search = GridSearchCV(svm_model, param_grid, cv=5, scoring='accuracy')\n",
    "grid_search.fit(X_train_small, y_train_small)\n",
    "\n",
    "# Get the best parameters\n",
    "best_params = grid_search.best_params_\n",
    "print(\"Best Parameters:\", best_params)\n",
    "\n",
    "# Train the model with the best parameters on the full dataset\n",
    "best_model = SVC(**best_params)\n",
    "best_model.fit(X_train_small, y_train_small)\n",
    "\n",
    "# Model Evaluation\n",
    "y_pred_full = best_model.predict(X_test_small)\n",
    "print(\"Accuracy:\", accuracy_score(y_test_small, y_pred_full))\n",
    "print(\"Classification Report:\\n\", classification_report(y_test_small, y_pred_full))"
   ]
  },
  {
   "cell_type": "code",
   "execution_count": 49,
   "id": "6085cbba",
   "metadata": {},
   "outputs": [
    {
     "name": "stdout",
     "output_type": "stream",
     "text": [
      "Batch 0-9999 processed.\n",
      "Batch 10000-19999 processed.\n",
      "Batch 20000-29999 processed.\n",
      "Batch 30000-39999 processed.\n",
      "Batch 40000-49999 processed.\n",
      "Batch 50000-59999 processed.\n",
      "Batch 60000-69999 processed.\n",
      "Batch 70000-79999 processed.\n",
      "Batch 80000-89999 processed.\n",
      "Batch 90000-99999 processed.\n",
      "Batch 100000-109999 processed.\n",
      "Batch 110000-119999 processed.\n",
      "Batch 120000-129999 processed.\n",
      "Batch 130000-139999 processed.\n",
      "Batch 140000-149999 processed.\n",
      "Batch 150000-159999 processed.\n",
      "Batch 160000-169999 processed.\n"
     ]
    },
    {
     "name": "stderr",
     "output_type": "stream",
     "text": [
      "D:\\Lenovo\\anaconda3\\Lib\\site-packages\\sklearn\\metrics\\_classification.py:1469: UndefinedMetricWarning: Precision and F-score are ill-defined and being set to 0.0 in labels with no predicted samples. Use `zero_division` parameter to control this behavior.\n",
      "  _warn_prf(average, modifier, msg_start, len(result))\n",
      "D:\\Lenovo\\anaconda3\\Lib\\site-packages\\sklearn\\metrics\\_classification.py:1469: UndefinedMetricWarning: Precision and F-score are ill-defined and being set to 0.0 in labels with no predicted samples. Use `zero_division` parameter to control this behavior.\n",
      "  _warn_prf(average, modifier, msg_start, len(result))\n"
     ]
    },
    {
     "name": "stdout",
     "output_type": "stream",
     "text": [
      "Final Accuracy: 0.4990\n",
      "Classification Report:\n",
      "               precision    recall  f1-score   support\n",
      "\n",
      "    Negative       0.99      0.03      0.06     35738\n",
      "     Neutral       0.82      0.17      0.27     55346\n",
      "    Positive       0.47      0.99      0.64     72411\n",
      "         nan       0.00      0.00      0.00         7\n",
      "\n",
      "    accuracy                           0.50    163502\n",
      "   macro avg       0.57      0.30      0.24    163502\n",
      "weighted avg       0.70      0.50      0.39    163502\n",
      "\n"
     ]
    },
    {
     "name": "stderr",
     "output_type": "stream",
     "text": [
      "D:\\Lenovo\\anaconda3\\Lib\\site-packages\\sklearn\\metrics\\_classification.py:1469: UndefinedMetricWarning: Precision and F-score are ill-defined and being set to 0.0 in labels with no predicted samples. Use `zero_division` parameter to control this behavior.\n",
      "  _warn_prf(average, modifier, msg_start, len(result))\n"
     ]
    }
   ],
   "source": [
    "from sklearn.feature_extraction.text import TfidfVectorizer\n",
    "from sklearn.model_selection import train_test_split\n",
    "from sklearn.svm import SVC\n",
    "from sklearn.metrics import classification_report, accuracy_score\n",
    "\n",
    "# Clean the target variable\n",
    "new_df['sentiment'] = new_df['sentiment'].astype(str)  # Ensure consistent type\n",
    "\n",
    "# Vectorization using TF-IDF\n",
    "vectorizer = TfidfVectorizer(ngram_range=(1, 2))\n",
    "X = vectorizer.fit_transform(new_df['clean_text'])\n",
    "y = new_df['sentiment']\n",
    "\n",
    "# Define batch size\n",
    "batch_size = 10000\n",
    "\n",
    "# Process in batches\n",
    "all_labels = []\n",
    "all_predictions = []\n",
    "\n",
    "for i in range(0, X.shape[0], batch_size):\n",
    "    X_batch = X[i:i+batch_size]\n",
    "    y_batch = y[i:i+batch_size].to_numpy()  # Ensure array format for `y_batch`\n",
    "\n",
    "    # Model Training\n",
    "    model = SVC()\n",
    "    model.fit(X_batch, y_batch)\n",
    "\n",
    "    # Model Prediction\n",
    "    y_pred_batch = model.predict(X_batch)\n",
    "\n",
    "    # Accumulate predictions and ground truth labels\n",
    "    all_predictions.extend(y_pred_batch)\n",
    "    all_labels.extend(y_batch)\n",
    "\n",
    "    print(f\"Batch {i}-{i+batch_size-1} processed.\")\n",
    "\n",
    "# Evaluate on full test set\n",
    "X_test = vectorizer.transform(new_df['clean_text'])\n",
    "y_test = new_df['sentiment'].astype(str)\n",
    "y_pred = model.predict(X_test)\n",
    "\n",
    "accuracy = accuracy_score(y_test, y_pred)\n",
    "report = classification_report(y_test, y_pred)\n",
    "\n",
    "print(f\"Final Accuracy: {accuracy:.4f}\")\n",
    "print(\"Classification Report:\\n\", report)\n"
   ]
  },
  {
   "cell_type": "code",
   "execution_count": 50,
   "id": "55dd25a4",
   "metadata": {},
   "outputs": [
    {
     "data": {
      "image/png": "[encoded data removed]",
      "text/plain": [
       "<Figure size 640x480 with 2 Axes>"
      ]
     },
     "metadata": {},
     "output_type": "display_data"
    },
    {
     "data": {
      "image/png": "[encoded data removed]",
      "text/plain": [
       "<Figure size 640x480 with 1 Axes>"
      ]
     },
     "metadata": {},
     "output_type": "display_data"
    }
   ],
   "source": [
    "from sklearn.metrics import confusion_matrix, accuracy_score\n",
    "import matplotlib.pyplot as plt\n",
    "import numpy as np\n",
    "\n",
    "# Assuming all_predictions and all_labels are your accumulated predictions and ground truth labels\n",
    "\n",
    "# Create a confusion matrix plot\n",
    "conf_matrix = confusion_matrix(all_labels, all_predictions)\n",
    "plt.imshow(conf_matrix, interpolation='nearest', cmap=plt.cm.Blues)\n",
    "plt.title('Confusion Matrix')\n",
    "plt.colorbar()\n",
    "\n",
    "classes = np.unique(all_labels)\n",
    "tick_marks = np.arange(len(classes))\n",
    "plt.xticks(tick_marks, classes, rotation=45)\n",
    "plt.yticks(tick_marks, classes)\n",
    "\n",
    "plt.ylabel('True label')\n",
    "plt.xlabel('Predicted label')\n",
    "plt.show()\n",
    "\n",
    "# Plot overall accuracy over time\n",
    "batch_indices = np.arange(0, X.shape[0], batch_size)\n",
    "accuracies = []\n",
    "\n",
    "for i in range(len(batch_indices)):\n",
    "    batch_end = min(batch_indices[i] + batch_size, X.shape[0])\n",
    "    current_predictions = all_predictions[:batch_end]\n",
    "    current_labels = all_labels[:batch_end]\n",
    "    current_accuracy = accuracy_score(current_labels, current_predictions)\n",
    "    accuracies.append(current_accuracy)\n",
    "\n",
    "plt.plot(batch_indices, accuracies, marker='o')\n",
    "plt.title('Accuracy Over Time')\n",
    "plt.xlabel('Batch Index')\n",
    "plt.ylabel('Accuracy')\n",
    "plt.show()"
   ]
  },
  {
   "cell_type": "code",
   "execution_count": 51,
   "id": "4636538d",
   "metadata": {},
   "outputs": [
    {
     "data": {
      "text/plain": [
       "['trained_svm_model.joblib']"
      ]
     },
     "execution_count": 51,
     "metadata": {},
     "output_type": "execute_result"
    }
   ],
   "source": [
    "import joblib\n",
    "joblib.dump(model, 'trained_svm_model.joblib')"
   ]
  },
  {
   "cell_type": "code",
   "execution_count": null,
   "id": "ddc88de8",
   "metadata": {},
   "outputs": [],
   "source": [
    "import pandas as pd\n",
    "from sklearn.feature_extraction.text import TfidfVectorizer\n",
    "from sklearn.svm import SVC\n",
    "from sklearn.model_selection import train_test_split\n",
    "from sklearn.metrics import classification_report, accuracy_score\n",
    "\n",
    "# Load new dataset\n",
    "new_df = pd.read_csv(\"C:/Users/Lenovo/Desktop/sentimentstwittermert/dt2/twittertraining.csv\")\n",
    "\n",
    "# Verify and use the correct column names\n",
    "print(new_df.columns)  # Check column names to confirm\n",
    "new_clean_texts = new_df['Positive'].values  # Replace 'clean_text' with the correct column name\n",
    "new_labels = new_df['im getting on borderlands and i will murder you all ,'].values       # Replace 'sentiment' with the correct column name\n",
    "\n",
    "# Preprocess the labels (if needed)\n",
    "new_labels = new_labels.astype(str)  # Convert labels to string for consistency\n",
    "\n",
    "# Vectorization using TF-IDF\n",
    "vectorizer = TfidfVectorizer(ngram_range=(1, 2))\n",
    "X_new = vectorizer.fit_transform(new_clean_texts)\n",
    "\n",
    "# Split the dataset into training and testing sets\n",
    "X_train, X_test, y_train, y_test = train_test_split(X_new, new_labels, test_size=0.2, random_state=42)\n",
    "\n",
    "# Train an SVM model\n",
    "model_svm = SVC()\n",
    "model_svm.fit(X_train, y_train)\n",
    "\n",
    "# Predict on the test set\n",
    "y_pred_svm = model_svm.predict(X_test)\n",
    "\n",
    "# Evaluate the model\n",
    "accuracy_svm = accuracy_score(y_test, y_pred_svm)\n",
    "report_svm = classification_report(y_test, y_pred_svm)\n",
    "\n",
    "# Print evaluation results\n",
    "print(\"SVM Model Evaluation on New Dataset\")\n",
    "print(\"Accuracy:\", accuracy_svm)\n",
    "print(\"Classification Report:\\n\", report_svm)\n"
   ]
  },
  {
   "cell_type": "code",
   "execution_count": 56,
   "id": "4bb01035",
   "metadata": {},
   "outputs": [
    {
     "name": "stdout",
     "output_type": "stream",
     "text": [
      "Index(['2401', 'Borderlands', 'Positive',\n",
      "       'im getting on borderlands and i will murder you all ,'],\n",
      "      dtype='object')\n"
     ]
    }
   ],
   "source": [
    "print(new_df.columns)\n"
   ]
  },
  {
   "cell_type": "code",
   "execution_count": null,
   "id": "80164d06",
   "metadata": {},
   "outputs": [],
   "source": []
  }
 ],
 "metadata": {
  "kernelspec": {
   "display_name": "Python 3 (ipykernel)",
   "language": "python",
   "name": "python3"
  },
  "language_info": {
   "codemirror_mode": {
    "name": "ipython",
    "version": 3
   },
   "file_extension": ".py",
   "mimetype": "text/x-python",
   "name": "python",
   "nbconvert_exporter": "python",
   "pygments_lexer": "ipython3",
   "version": "3.11.4"
  }
 },
 "nbformat": 4,
 "nbformat_minor": 5
}
